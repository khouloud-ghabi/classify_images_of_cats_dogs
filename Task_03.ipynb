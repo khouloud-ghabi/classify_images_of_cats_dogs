{
  "nbformat": 4,
  "nbformat_minor": 0,
  "metadata": {
    "colab": {
      "provenance": []
    },
    "kernelspec": {
      "name": "python3",
      "display_name": "Python 3"
    },
    "language_info": {
      "name": "python"
    }
  },
  "cells": [
    {
      "cell_type": "code",
      "execution_count": null,
      "metadata": {
        "id": "v8SwKPU6Axkk"
      },
      "outputs": [],
      "source": [
        "from zipfile import ZipFile"
      ]
    },
    {
      "cell_type": "code",
      "source": [
        "dataset=\"train.zip\""
      ],
      "metadata": {
        "id": "ivde61BfA0mO"
      },
      "execution_count": null,
      "outputs": []
    },
    {
      "cell_type": "code",
      "source": [
        "with ZipFile(dataset, 'r') as zip:\n",
        "    zip.extractall()"
      ],
      "metadata": {
        "id": "Gam3_0RbA0pZ"
      },
      "execution_count": null,
      "outputs": []
    },
    {
      "cell_type": "code",
      "source": [
        "import os\n",
        "import numpy as np\n",
        "from sklearn.svm import SVC\n",
        "from sklearn.metrics import classification_report, confusion_matrix\n",
        "import matplotlib.pyplot as plt\n",
        "from tqdm import tqdm\n",
        "import joblib\n",
        "from sklearn.model_selection import GridSearchCV\n",
        "import cv2\n",
        "import seaborn as sns\n",
        "import time\n",
        "from sklearn.decomposition import PCA\n",
        "from sklearn.pipeline import Pipeline\n",
        "from sklearn.model_selection import train_test_split"
      ],
      "metadata": {
        "id": "xzMyBOmHA0sI"
      },
      "execution_count": null,
      "outputs": []
    },
    {
      "cell_type": "code",
      "source": [
        "folder_path = f\"Dataset/\"\n",
        "os.makedirs(folder_path, exist_ok=True)\n",
        "\n",
        "#path\n",
        "confusion_image_path = os.path.join(folder_path, 'confusion matrix.png')\n",
        "classification_file_path = os.path.join(folder_path, 'classification_report.txt')\n",
        "model_file_path = os.path.join(folder_path, \"svm_model.pkl\")\n",
        "\n",
        "# Path dataset directory\n",
        "dataset_dir = \"Dataset/\"\n",
        "train_dir = os.path.join(dataset_dir, \"train\")\n",
        "test_dir = os.path.join(dataset_dir, \"test1\")"
      ],
      "metadata": {
        "id": "HqUiTq_OA0un"
      },
      "execution_count": null,
      "outputs": []
    },
    {
      "cell_type": "code",
      "source": [
        "train_images = os.listdir(train_dir)\n",
        "features = []\n",
        "labels = []\n",
        "image_size = (50, 50)\n",
        "\n",
        "\n",
        "for image in tqdm(train_images, desc=\"Processing Train Images\"):\n",
        "    if image[0:3] == 'cat' :\n",
        "        label = 0\n",
        "    else :\n",
        "        label = 1\n",
        "    image_read = cv2.imread(train_dir+\"/\"+image)\n",
        "    image_resized = cv2.resize(image_read, image_size)\n",
        "    image_normalized = image_resized / 255.0\n",
        "    image_flatten = image_normalized.flatten()\n",
        "    features.append(image_flatten)\n",
        "    labels.append(label)"
      ],
      "metadata": {
        "id": "Y0_cXRJJA0xR"
      },
      "execution_count": null,
      "outputs": []
    },
    {
      "cell_type": "code",
      "source": [
        "del train_images"
      ],
      "metadata": {
        "id": "SW2xyXlmA01g"
      },
      "execution_count": null,
      "outputs": []
    },
    {
      "cell_type": "code",
      "source": [
        "features = np.asarray(features)\n",
        "labels = np.asarray(labels)\n",
        "\n",
        "X_train, X_test, y_train, y_test = train_test_split(features, labels, test_size=0.2, shuffle=True, random_state=40)"
      ],
      "metadata": {
        "id": "5TLY4J0RA04G"
      },
      "execution_count": null,
      "outputs": []
    },
    {
      "cell_type": "code",
      "source": [
        "del features\n",
        "del labels"
      ],
      "metadata": {
        "id": "L7GQ_U6_Os4S"
      },
      "execution_count": null,
      "outputs": []
    },
    {
      "cell_type": "code",
      "source": [
        "nb_components = 0.7\n",
        "pca = PCA(nb_components=n_components)\n",
        "svm = SVC()\n",
        "pca = PCA(nb_components=nb_components, random_state=4042)\n",
        "pipeline = Pipeline([\n",
        "    ('pca', pca),\n",
        "    ('svm', svm)\n",
        "])"
      ],
      "metadata": {
        "id": "DNJ4nPh9Os7s"
      },
      "execution_count": null,
      "outputs": []
    },
    {
      "cell_type": "code",
      "source": [
        "prm_grid = {\n",
        "    'pca__n_components': [2, 1, 0.9, 0.8],\n",
        "    'svm__kernel': ['linear', 'rbf', 'poly', 'sigmoid'],\n",
        "}"
      ],
      "metadata": {
        "id": "RQhd3_isOs--"
      },
      "execution_count": null,
      "outputs": []
    },
    {
      "cell_type": "code",
      "source": [
        "start_time = time.time()\n",
        "pipeline = Pipeline([\n",
        "    ('vect', CountVectorizer()),\n",
        "    ('tfidf', TfidfTransformer()),\n",
        "    ('clf', MultinomialNB()),\n",
        "])\n",
        "grid_search = GridSearchCV(pipeline, prm_grid, cv=3, verbose=4)\n",
        "grid_search.fit(X_train, y_train)\n",
        "end_time = time.time()"
      ],
      "metadata": {
        "id": "WCIyDAbUO_6-"
      },
      "execution_count": null,
      "outputs": []
    },
    {
      "cell_type": "code",
      "source": [
        "del X_train\n",
        "del y_train"
      ],
      "metadata": {
        "id": "-AjJUiG6PADh"
      },
      "execution_count": null,
      "outputs": []
    },
    {
      "cell_type": "code",
      "source": [
        "best_pipeline = grid_search.best_estimator_\n",
        "best_prms = grid_search.best_params_\n",
        "best_score = grid_search.best_score_\n",
        "\n",
        "print(\"Best Parameters: \", best_prms)\n",
        "print(\"Best Score: \", best_score)"
      ],
      "metadata": {
        "id": "qHzWFzqKPAGd"
      },
      "execution_count": null,
      "outputs": []
    },
    {
      "cell_type": "code",
      "source": [
        "accuracy = best_pipeline.score(X_test, y_test)\n",
        "print(\"Accuracy:\", accuracy)"
      ],
      "metadata": {
        "id": "FDa4OTcyPAKe"
      },
      "execution_count": null,
      "outputs": []
    },
    {
      "cell_type": "code",
      "source": [
        "y_pred = best_pipeline.predict(X_test)\n",
        "target_names = ['Cat', 'Dog']\n",
        "classification_rep = classification_report(y_test, y_pred, target_names=target_names)\n",
        "print(\"Classification Report:\", classification_rep)\n",
        "\n",
        "with open(classification_file_path, 'w') as file:\n",
        "    file.write(classification_rep)"
      ],
      "metadata": {
        "id": "C3xYdZQlPAOZ"
      },
      "execution_count": null,
      "outputs": []
    },
    {
      "cell_type": "code",
      "source": [
        "c = confusion_matrix(y_test, y_pred)\n",
        "sns.heatmap(c, annot=True, fm=\"pink\", cmap=\"B\")\n",
        "plt.xlabel('Predicted labels')\n",
        "plt.ylabel('True labels')\n",
        "plt.savefig(confusion_image_path)\n",
        "plt.show()"
      ],
      "metadata": {
        "id": "bFAp2nsOPpsp"
      },
      "execution_count": null,
      "outputs": []
    }
  ]
}